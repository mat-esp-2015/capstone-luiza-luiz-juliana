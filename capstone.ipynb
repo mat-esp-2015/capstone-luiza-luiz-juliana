{
 "cells": [
  {
   "cell_type": "markdown",
   "metadata": {},
   "source": [
    "# Lendo dados de geociência"
   ]
  },
  {
   "cell_type": "markdown",
   "metadata": {},
   "source": [
    "## License\n",
    "\n",
    "All content can be freely used and adapted under the terms of the \n",
    "[Creative Commons Attribution 4.0 International License](http://creativecommons.org/licenses/by/4.0/).\n",
    "\n",
    "![Creative Commons License](https://i.creativecommons.org/l/by/4.0/88x31.png)"
   ]
  },
  {
   "cell_type": "markdown",
   "metadata": {},
   "source": [
    "## Imports\n",
    "\n",
    "Coloque **todos** os `import` na célula abaixo. Não se esqueça do `%matplotlib inline` para que os gráficos apareçam no notebook."
   ]
  },
  {
   "cell_type": "code",
   "execution_count": 23,
   "metadata": {
    "collapsed": false,
    "scrolled": true
   },
   "outputs": [],
   "source": [
    "%matplotlib inline\n",
    "import matplotlib.pyplot as plt\n",
    "import math\n",
    "import numpy as np"
   ]
  },
  {
   "cell_type": "markdown",
   "metadata": {},
   "source": [
    "## IMPORTANTE\n",
    "\n",
    "Agora que vocês sabem técnicas de programação defensiva, eu espero que todo o código que vocês fizerem abaixo utilizem essas técnicas. Crie docstrings para suas funções, cheque as entradas (quando for possível) e cheque as saídas. **Não esqueçam dos comentários**."
   ]
  },
  {
   "cell_type": "markdown",
   "metadata": {},
   "source": [
    "## Temperatura no Rio de Janeiro\n",
    "\n",
    "O arquivo `data/23.31S-42.82W-TAVG-Trend.txt` contém dados de temperatura média mensal para a cidade do Rio de Janeiro. O arquivo também contém médias móveis anual, 5, 10 e 20 anos. Esses dados foram baixados do site Berkeley Earth (http://berkeleyearth.lbl.gov/locations/23.31S-42.82W).\n",
    "\n",
    "### Tarefa\n",
    "\n",
    "Faça duas funções, uma que lê os dados de temperatura mensal, outra que lê os dados da média móvel anual.\n",
    "As duas funções devem:\n",
    "\n",
    "* Receber como entrada **somente** o nome do arquivo de dados.\n",
    "* Retornar duas listas: uma com as datas referentes aos dados e outra com os dados de temperatura.\n",
    "* As datas retornadas devem ser em anos decimais. Ex: Janeiro de 1984 seria 1984.0833333333333 (1984 + 1/12).\n",
    "* Datas sem valores de temperatura (NaN) devem ser ignoradas (não incluidas nas listas).\n",
    "\n",
    "Utilize suas funções para carregar os dados e fazer um gráfico da temperatura média mensal e média movel anual pelo tempo."
   ]
  },
  {
   "cell_type": "code",
   "execution_count": 73,
   "metadata": {
    "collapsed": false
   },
   "outputs": [],
   "source": [
    "#arquivo = 'data/23.31S-42.82W-TAVG-Trend.txt' #definiu-se o arquivo a ser aberto e seu local de destino\n",
    "def temp_mensal(arquivo): #definiu-se a funçao que ler temperatura mensal\n",
    "    arquivo = open(arquivo) #abriu o arquivo com os dados\n",
    "    datas = [] #definiu uma lista vazia para as datas\n",
    "    dados = [] #definiu uma lista vazia para os dados\n",
    "    for linhas in arquivo: #funçao para ler as linhas do arquivo\n",
    "        if linhas[0] != '%': #funçao para nao ler as linhas que contem %\n",
    "            coluna = linhas.split() #funçao para separar as colunas, que sao separadas por espaços\n",
    "            if len(coluna) != 0: #funçao para nao ler linhas vazias\n",
    "                if coluna[2] != 'NaN': #funçao para nao ler linhas que nao contem numeros\n",
    "                    ano = float(coluna[0]) #transformar em numero e ler a coluna com os anos\n",
    "                    mes = float(coluna[1]) #transformar em numero e ler a coluna com os meses\n",
    "                    anomalia = float(coluna[2]) #transformar em numero e definir as anomalias\n",
    "                    temp = 24.01 + anomalia #converter as anomalias para temperaturas\n",
    "                    ano_mes = ano + (mes/12) #representar os meses em fraçoes de anos\n",
    "                    datas.append(ano_mes) #adicionar as datas na lista vazia\n",
    "                    dados.append(temp) #adicionar os dados de temperatura na lista vazia\n",
    "    return datas, dados  #retornar as listas criadas \n",
    "    arquivo.close() #fechamos o arquivo"
   ]
  },
  {
   "cell_type": "code",
   "execution_count": 72,
   "metadata": {
    "collapsed": true
   },
   "outputs": [],
   "source": [
    "#arquivo = 'data/23.31S-42.82W-TAVG-Trend.txt' #definiu-se o arquivo a ser aberto e seu local de destino\n",
    "def temp_movel_anual(arquivo): #definiu-se a funçao que ler temperatura media anual\n",
    "    arquivo = open(arquivo) #abriu o arquivo com os dados\n",
    "    datas_anual = [] #definiu uma lista vazia para as datas\n",
    "    dados_anual = [] #definiu uma lista vazia para os dados\n",
    "    for linhas in arquivo: #funçao para ler as linhas do arquivo\n",
    "        if linhas[0] != '%': #funçao para nao ler as linhas que contem %\n",
    "            coluna = linhas.split() #funçao para separar as colunas, que sao separadas por espaços\n",
    "            if len(coluna) != 0: #funçao para nao ler linhas vazias\n",
    "                if coluna[4] != 'NaN': #funçao para nao ler linhas que nao contem numeros\n",
    "                    ano = float(coluna[0]) #transformar em numero e ler a coluna com os anos\n",
    "                    mes = float(coluna[1]) #transformar em numero e ler a coluna com os meses\n",
    "                    anomalia = float(coluna[4]) #transformar em numero e definir as anomalias\n",
    "                    temp = 24.01 + anomalia #converter as anomalias para temperaturas\n",
    "                    ano_mes = ano + (mes/12) #representar os meses em fraçoes de anos\n",
    "                    datas_anual.append(ano_mes) #adicionar as datas na lista vazia\n",
    "                    dados_anual.append(temp) #adicionar os dados de temperatura na lista vazia\n",
    "    return datas_anual, dados_anual  #retornar as listas criadas \n",
    "    arquivo.close() #fechamos o arquivo"
   ]
  },
  {
   "cell_type": "code",
   "execution_count": 74,
   "metadata": {
    "collapsed": false
   },
   "outputs": [],
   "source": [
    "[datas, dados] = temp_mensal('data/23.31S-42.82W-TAVG-Trend.txt') #chamar a funçao \n",
    "[datas_anual, dados_anual] = temp_movel_anual('data/23.31S-42.82W-TAVG-Trend.txt') #chamar a funçao"
   ]
  },
  {
   "cell_type": "code",
   "execution_count": 84,
   "metadata": {
    "collapsed": false
   },
   "outputs": [
    {
     "data": {
      "text/plain": [
       "<matplotlib.legend.Legend at 0x7f6422c8cba8>"
      ]
     },
     "execution_count": 84,
     "metadata": {},
     "output_type": "execute_result"
    },
    {
     "data": {
      "image/png": "[encoded data removed]",
      "text/plain": [
       "<matplotlib.figure.Figure at 0x7f6422cc3668>"
      ]
     },
     "metadata": {},
     "output_type": "display_data"
    }
   ],
   "source": [
    "plt.figure() #criamos aqui a figura em branco\n",
    "plt.plot(datas, dados, '.k', label = 'media mensal') #aqui preenchemo-nas com os dados organizados\n",
    "plt.plot(datas_anual, dados_anual, '-r', label = 'media movel anual') #aqui preenchemo-nas com os dados organizados\n",
    "plt.xlabel(\"Ano\") #nomeamos o eixo X\n",
    "plt.xlim(1828, 2017) #definir os limites do eixo x\n",
    "plt.ylabel(\"Temperatura Media\") #nomeamos o eixo Y\n",
    "plt.legend(loc='upper left', fontsize='x-large') #definir a posiçao e tamanho da legenda\n"
   ]
  },
  {
   "cell_type": "markdown",
   "metadata": {},
   "source": [
    "### Resultado esperado\n",
    "\n",
    "O gráfico final deve ser parecido com o abaixo:\n",
    "\n",
    "![images/media-mensal-temp-rio.png](images/media-mensal-temp-rio.png)"
   ]
  },
  {
   "cell_type": "markdown",
   "metadata": {},
   "source": [
    "### Tarefa\n",
    "\n",
    "Faça uma função que calcule a temperatura média anual a partir das temperaturas mensais. A sua função deve:\n",
    "\n",
    "* Receber como entrada a lista das datas e a lista das temperaturas mensais.\n",
    "* Retornar duas listas: uma com os anos e outra com as temperaturas médias correspondetes.\n",
    "* Anos que não contem dados de todos os 12 meses devem ser ignorados (não incluídos nas listas retornadas).\n",
    "\n",
    "Utilize sua função para calcular a média anual. Faça um gráfico da temperatura média anual por ano junto com a média móvel anual.\n",
    "\n",
    "**Dica**: A função `math.floor` retorna o número inteiro que precede um número real. Ex: `math.floor(1984.23) == 1984`"
   ]
  },
  {
   "cell_type": "code",
   "execution_count": null,
   "metadata": {
    "collapsed": true
   },
   "outputs": [],
   "source": []
  },
  {
   "cell_type": "code",
   "execution_count": null,
   "metadata": {
    "collapsed": true
   },
   "outputs": [],
   "source": []
  },
  {
   "cell_type": "code",
   "execution_count": null,
   "metadata": {
    "collapsed": true
   },
   "outputs": [],
   "source": []
  },
  {
   "cell_type": "code",
   "execution_count": null,
   "metadata": {
    "collapsed": true
   },
   "outputs": [],
   "source": []
  },
  {
   "cell_type": "code",
   "execution_count": null,
   "metadata": {
    "collapsed": true
   },
   "outputs": [],
   "source": []
  },
  {
   "cell_type": "markdown",
   "metadata": {},
   "source": [
    "### Resultado esperado\n",
    "\n",
    "O gráfico final deve ser parecido com o abaixo:\n",
    "\n",
    "![images/media-anual-temp-rio.png](images/media-anual-temp-rio.png)"
   ]
  },
  {
   "cell_type": "markdown",
   "metadata": {},
   "source": [
    "## Tarefa Bônus\n",
    "\n",
    "Salve os dados da média anual em um arquivo CSV (comma separated values) chamado `temp-media-anual.csv`. Os valores devem ser separados por `,`. A primeira coluna deve conter os anos e a segunda as temperaturas. Esse arquivo deve estar presente em seu repositório (dê `git add` nele)."
   ]
  },
  {
   "cell_type": "code",
   "execution_count": null,
   "metadata": {
    "collapsed": true
   },
   "outputs": [],
   "source": []
  },
  {
   "cell_type": "code",
   "execution_count": null,
   "metadata": {
    "collapsed": true
   },
   "outputs": [],
   "source": []
  },
  {
   "cell_type": "code",
   "execution_count": null,
   "metadata": {
    "collapsed": true
   },
   "outputs": [],
   "source": []
  },
  {
   "cell_type": "code",
   "execution_count": null,
   "metadata": {
    "collapsed": true
   },
   "outputs": [],
   "source": []
  },
  {
   "cell_type": "code",
   "execution_count": null,
   "metadata": {
    "collapsed": true
   },
   "outputs": [],
   "source": []
  }
 ],
 "metadata": {
  "kernelspec": {
   "display_name": "Python 3",
   "language": "python",
   "name": "python3"
  },
  "language_info": {
   "codemirror_mode": {
    "name": "ipython",
    "version": 3
   },
   "file_extension": ".py",
   "mimetype": "text/x-python",
   "name": "python",
   "nbconvert_exporter": "python",
   "pygments_lexer": "ipython3",
   "version": "3.4.3"
  }
 },
 "nbformat": 4,
 "nbformat_minor": 0
}
