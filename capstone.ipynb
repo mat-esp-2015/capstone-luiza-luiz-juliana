{
 "cells": [
  {
   "cell_type": "markdown",
   "metadata": {},
   "source": [
    "# Lendo dados de geociência"
   ]
  },
  {
   "cell_type": "markdown",
   "metadata": {},
   "source": [
    "## License\n",
    "\n",
    "All content can be freely used and adapted under the terms of the \n",
    "[Creative Commons Attribution 4.0 International License](http://creativecommons.org/licenses/by/4.0/).\n",
    "\n",
    "![Creative Commons License](https://i.creativecommons.org/l/by/4.0/88x31.png)"
   ]
  },
  {
   "cell_type": "markdown",
   "metadata": {},
   "source": [
    "## Imports\n",
    "\n",
    "Coloque **todos** os `import` na célula abaixo. Não se esqueça do `%matplotlib inline` para que os gráficos apareçam no notebook."
   ]
  },
  {
   "cell_type": "code",
   "execution_count": 6,
   "metadata": {
    "collapsed": false,
    "scrolled": true
   },
   "outputs": [],
   "source": [
    "%matplotlib inline\n",
    "import matplotlib.pyplot as plt\n",
    "import math\n",
    "import numpy as np"
   ]
  },
  {
   "cell_type": "markdown",
   "metadata": {},
   "source": [
    "## IMPORTANTE\n",
    "\n",
    "Agora que vocês sabem técnicas de programação defensiva, eu espero que todo o código que vocês fizerem abaixo utilizem essas técnicas. Crie docstrings para suas funções, cheque as entradas (quando for possível) e cheque as saídas. **Não esqueçam dos comentários**."
   ]
  },
  {
   "cell_type": "markdown",
   "metadata": {},
   "source": [
    "## Temperatura no Rio de Janeiro\n",
    "\n",
    "O arquivo `data/23.31S-42.82W-TAVG-Trend.txt` contém dados de temperatura média mensal para a cidade do Rio de Janeiro. O arquivo também contém médias móveis anual, 5, 10 e 20 anos. Esses dados foram baixados do site Berkeley Earth (http://berkeleyearth.lbl.gov/locations/23.31S-42.82W).\n",
    "\n",
    "### Tarefa\n",
    "\n",
    "Faça duas funções, uma que lê os dados de temperatura mensal, outra que lê os dados da média móvel anual.\n",
    "As duas funções devem:\n",
    "\n",
    "* Receber como entrada **somente** o nome do arquivo de dados.\n",
    "* Retornar duas listas: uma com as datas referentes aos dados e outra com os dados de temperatura.\n",
    "* As datas retornadas devem ser em anos decimais. Ex: Janeiro de 1984 seria 1984.0833333333333 (1984 + 1/12).\n",
    "* Datas sem valores de temperatura (NaN) devem ser ignoradas (não incluidas nas listas).\n",
    "\n",
    "Utilize suas funções para carregar os dados e fazer um gráfico da temperatura média mensal e média movel anual pelo tempo."
   ]
  },
  {
   "cell_type": "code",
   "execution_count": 7,
   "metadata": {
    "collapsed": false
   },
   "outputs": [],
   "source": [
    "#arquivo = 'data/23.31S-42.82W-TAVG-Trend.txt' #definiu-se o arquivo a ser aberto e seu local de destino\n",
    "def temp_mensal(arquivo): #definiu-se a funçao que ler temperatura mensal\n",
    "    arquivo = open(arquivo) #abriu o arquivo com os dados\n",
    "    datas = [] #definiu uma lista vazia para as datas\n",
    "    dados = [] #definiu uma lista vazia para os dados\n",
    "    for linhas in arquivo: #funçao para ler as linhas do arquivo\n",
    "        if linhas[0] != '%': #funçao para nao ler as linhas que contem %\n",
    "            coluna = linhas.split() #funçao para separar as colunas, que sao separadas por espaços\n",
    "            if len(coluna) != 0: #funçao para nao ler linhas vazias\n",
    "                if coluna[2] != 'NaN': #funçao para nao ler linhas que nao contem numeros\n",
    "                    ano = float(coluna[0]) #transformar em numero e ler a coluna com os anos\n",
    "                    mes = float(coluna[1]) #transformar em numero e ler a coluna com os meses\n",
    "                    anomalia = float(coluna[2]) #transformar em numero e definir as anomalias\n",
    "                    temp = 24.01 + anomalia #converter as anomalias para temperaturas\n",
    "                    ano_mes = ano + (mes/12) #representar os meses em fraçoes de anos\n",
    "                    datas.append(ano_mes) #adicionar as datas na lista vazia\n",
    "                    dados.append(temp) #adicionar os dados de temperatura na lista vazia\n",
    "    return datas, dados  #retornar as listas criadas \n",
    "    arquivo.close() #fechamos o arquivo"
   ]
  },
  {
   "cell_type": "code",
   "execution_count": 21,
   "metadata": {
    "collapsed": true
   },
   "outputs": [],
   "source": [
    "#arquivo = 'data/23.31S-42.82W-TAVG-Trend.txt' #definiu-se o arquivo a ser aberto e seu local de destino\n",
    "def temp_movel_anual(arquivo): #definiu-se a funçao que ler temperatura media anual\n",
    "    arquivo = open(arquivo) #abriu o arquivo com os dados\n",
    "    datas_anual = [] #definiu uma lista vazia para as datas\n",
    "    dados_anual = [] #definiu uma lista vazia para os dados\n",
    "    for linhas in arquivo: #funçao para ler as linhas do arquivo\n",
    "        if linhas[0] != '%': #funçao para nao ler as linhas que contem %\n",
    "            coluna = linhas.split() #funçao para separar as colunas, que sao separadas por espaços\n",
    "            if len(coluna) != 0: #funçao para nao ler linhas vazias\n",
    "                if coluna[4] != 'NaN': #funçao para nao ler linhas que nao contem numeros\n",
    "                    ano = float(coluna[0]) #transformar em numero e ler a coluna com os anos\n",
    "                    mes = float(coluna[1]) #transformar em numero e ler a coluna com os meses\n",
    "                    anomalia = float(coluna[4]) #transformar em numero e definir as anomalias\n",
    "                    temp = 24.01 + anomalia #converter as anomalias para temperaturas\n",
    "                    ano_mes = ano + (mes/12) #representar os meses em fraçoes de anos\n",
    "                    datas_anual.append(ano_mes) #adicionar as datas na lista vazia\n",
    "                    dados_anual.append(temp) #adicionar os dados de temperatura na lista vazia\n",
    "    return datas_anual, dados_anual  #retornar as listas criadas \n",
    "    arquivo.close() #fechamos o arquivo"
   ]
  },
  {
   "cell_type": "code",
   "execution_count": 22,
   "metadata": {
    "collapsed": false
   },
   "outputs": [],
   "source": [
    "[datas, dados] = temp_mensal('data/23.31S-42.82W-TAVG-Trend.txt') #chamar a funçao \n",
    "[datas_anual, dados_anual] = temp_movel_anual('data/23.31S-42.82W-TAVG-Trend.txt') #chamar a funçao"
   ]
  },
  {
   "cell_type": "code",
   "execution_count": 23,
   "metadata": {
    "collapsed": false
   },
   "outputs": [
    {
     "data": {
      "text/plain": [
       "<matplotlib.legend.Legend at 0x7fbeba20b080>"
      ]
     },
     "execution_count": 23,
     "metadata": {},
     "output_type": "execute_result"
    },
    {
     "data": {
      "image/png": "[encoded data removed]",
      "text/plain": [
       "<matplotlib.figure.Figure at 0x7fbeba34d240>"
      ]
     },
     "metadata": {},
     "output_type": "display_data"
    }
   ],
   "source": [
    "plt.figure() #criamos aqui a figura em branco\n",
    "plt.plot(datas, dados, '.k', label = 'media mensal') #aqui preenchemo-nas com os dados organizados\n",
    "plt.plot(datas_anual, dados_anual, '-r', label = 'media movel anual') #aqui preenchemo-nas com os dados organizados\n",
    "plt.xlabel(\"Ano\") #nomeamos o eixo X\n",
    "plt.xlim(1828, 2017) #definir os limites do eixo x\n",
    "plt.ylabel(\"Temperatura Media\") #nomeamos o eixo Y\n",
    "plt.legend(loc='upper left', fontsize='x-large') #definir a posiçao e tamanho da legenda\n"
   ]
  },
  {
   "cell_type": "markdown",
   "metadata": {},
   "source": [
    "### Resultado esperado\n",
    "\n",
    "O gráfico final deve ser parecido com o abaixo:\n",
    "\n",
    "![images/media-mensal-temp-rio.png](images/media-mensal-temp-rio.png)"
   ]
  },
  {
   "cell_type": "markdown",
   "metadata": {},
   "source": [
    "### Tarefa\n",
    "\n",
    "Faça uma função que calcule a temperatura média anual a partir das temperaturas mensais. A sua função deve:\n",
    "\n",
    "* Receber como entrada a lista das datas e a lista das temperaturas mensais.\n",
    "* Retornar duas listas: uma com os anos e outra com as temperaturas médias correspondetes.\n",
    "* Anos que não contem dados de todos os 12 meses devem ser ignorados (não incluídos nas listas retornadas).\n",
    "\n",
    "Utilize sua função para calcular a média anual. Faça um gráfico da temperatura média anual por ano junto com a média móvel anual.\n",
    "\n",
    "**Dica**: A função `math.floor` retorna o número inteiro que precede um número real. Ex: `math.floor(1984.23) == 1984`"
   ]
  },
  {
   "cell_type": "code",
   "execution_count": 24,
   "metadata": {
    "collapsed": false
   },
   "outputs": [],
   "source": [
    "temperatura_média = []\n",
    "for i in range(0,len(datas),1):\n",
    "    temperatura_média.append(math.floor(datas[i]))\n"
   ]
  },
  {
   "cell_type": "code",
   "execution_count": 62,
   "metadata": {
    "collapsed": false
   },
   "outputs": [
    {
     "name": "stdout",
     "output_type": "stream",
     "text": [
      "[23.930916666666665, 23.3745, 22.835833333333337, 22.83725, 22.35125, 22.662750000000003, 22.626500000000004, 23.21366666666667, 23.1535, 23.273833333333336, 23.4785, 23.5425, 23.92775, 23.7865, 23.97541666666667, 22.835083333333337, 23.303666666666665, 22.64016666666667, 22.88833333333334, 23.858666666666668, 23.17625, 22.952916666666667, 22.92216666666667, 23.006416666666667, 22.980750000000004, 23.021749999999997, 23.197750000000006, 24.25691666666667, 24.290583333333334, 24.16916666666667, 23.86966666666667, 23.753, 23.923000000000002, 23.383250000000004, 22.61983333333334, 23.256833333333336, 23.66833333333334, 24.3445, 22.912833333333335, 23.886083333333332, 23.355583333333335, 22.781166666666667, 22.863249999999997, 22.840250000000005, 23.611666666666665, 23.053833333333333, 23.350583333333336, 23.739666666666672, 24.120000000000005, 23.594333333333335, 23.568916666666667, 23.375916666666672, 22.678416666666664, 23.577333333333335, 23.279833333333336, 23.314500000000002, 23.387666666666668, 23.563333333333336, 24.02075, 23.37841666666667, 23.221083333333333, 23.765083333333337, 23.748083333333337, 23.30241666666667, 23.705083333333334, 23.808750000000003, 23.31083333333334, 23.579333333333338, 23.4535, 23.31416666666667, 23.206333333333337, 23.567000000000004, 23.766833333333334, 24.232000000000006, 24.089583333333337, 23.51625, 22.624750000000002, 23.255916666666668, 23.646750000000004, 23.682166666666667, 23.417166666666674, 23.85958333333334, 23.756, 23.401083333333336, 23.374000000000002, 23.85108333333334, 23.711083333333335, 24.05491666666667, 23.66741666666667, 24.18375, 23.49758333333334, 24.188000000000002, 23.184583333333336, 23.698833333333333, 23.817249999999998, 24.074583333333333, 23.722416666666664, 23.826000000000004, 23.939, 24.001666666666665, 24.341833333333337, 23.94475, 23.54258333333333, 23.805833333333332, 23.644166666666663, 24.26091666666667, 23.691583333333337, 23.95741666666667, 23.58416666666667, 23.996499999999997, 23.36466666666667, 23.816333333333336, 24.064416666666663, 24.198666666666668, 23.611166666666666, 23.550583333333332, 23.823500000000003, 24.555833333333336, 24.698416666666663, 23.85325, 24.599083333333336, 23.483083333333337, 24.274499999999996, 23.497416666666666, 24.111749999999997, 24.42008333333333, 24.38041666666667, 23.12925, 24.271083333333337, 23.868416666666665, 24.108333333333334, 24.350583333333336, 24.38216666666667, 24.04083333333333, 23.434666666666672, 23.80016666666667, 24.70566666666667, 23.940083333333334, 23.57425, 24.290750000000003, 24.096833333333336, 24.04975, 24.0915, 24.676666666666666, 24.08275, 24.670916666666663, 24.509833333333336, 24.074916666666674, 24.07425, 24.593000000000004, 24.169833333333333, 24.379083333333334, 24.567083333333336, 24.625666666666667, 24.878583333333335, 24.20916666666667, 24.622333333333334, 24.863333333333337, 24.10116666666667, 24.285500000000006, 25.015833333333337, 25.117666666666665, 24.909000000000002, 24.300833333333333, 24.812416666666667, 24.489583333333336, 24.75841666666667, 24.383833333333342, 24.837000000000003, 24.92541666666667, 24.44658333333333, 24.688083333333335] [1833, 1834, 1835, 1836, 1837, 1838, 1839, 1840, 1841, 1842, 1843, 1852, 1853, 1854, 1855, 1856, 1857, 1858, 1859, 1860, 1861, 1862, 1863, 1864, 1865, 1866, 1867, 1868, 1869, 1870, 1871, 1872, 1873, 1874, 1875, 1876, 1877, 1878, 1879, 1880, 1881, 1882, 1883, 1884, 1885, 1886, 1887, 1888, 1889, 1890, 1891, 1892, 1893, 1894, 1895, 1896, 1897, 1898, 1899, 1900, 1901, 1902, 1903, 1904, 1905, 1906, 1907, 1908, 1909, 1910, 1911, 1912, 1913, 1914, 1915, 1916, 1917, 1918, 1919, 1920, 1921, 1922, 1923, 1924, 1925, 1926, 1927, 1928, 1929, 1930, 1931, 1932, 1933, 1934, 1935, 1936, 1937, 1938, 1939, 1940, 1941, 1942, 1943, 1944, 1945, 1946, 1947, 1948, 1949, 1950, 1951, 1952, 1953, 1954, 1955, 1956, 1957, 1958, 1959, 1960, 1961, 1962, 1963, 1964, 1965, 1966, 1967, 1968, 1969, 1970, 1971, 1972, 1973, 1974, 1975, 1976, 1977, 1978, 1979, 1980, 1981, 1982, 1983, 1984, 1985, 1986, 1987, 1988, 1989, 1990, 1991, 1992, 1993, 1994, 1995, 1996, 1997, 1998, 1999, 2000, 2001, 2002, 2003, 2004, 2005, 2006, 2007, 2008, 2009, 2010, 2011, 2012]\n"
     ]
    }
   ],
   "source": [
    "temperatura_média_anual = []\n",
    "listagem1 = []\n",
    "for i in range(0,len(datas),1):\n",
    "    t = 0\n",
    "    if i + 11 < len(datas) and math.floor(datas[i]) == math.floor (datas [i + 11]):\n",
    "        for j in range (0,12,1):\n",
    "            t = (dados [i + j])/12 + t\n",
    "        listagem1.append (math.floor(datas[i]))\n",
    "        temperatura_média_anual.append(t)\n",
    "\n",
    "print(temperatura_média_anual, listagem1)\n"
   ]
  },
  {
   "cell_type": "code",
   "execution_count": 43,
   "metadata": {
    "collapsed": false
   },
   "outputs": [
    {
     "name": "stdout",
     "output_type": "stream",
     "text": [
      "0\n",
      "12\n",
      "24\n",
      "36\n",
      "48\n",
      "60\n",
      "72\n",
      "84\n",
      "96\n",
      "108\n",
      "120\n",
      "132\n",
      "144\n",
      "156\n",
      "168\n",
      "180\n",
      "192\n",
      "204\n",
      "216\n",
      "228\n",
      "240\n",
      "252\n",
      "264\n",
      "276\n",
      "288\n",
      "300\n",
      "312\n",
      "324\n",
      "336\n",
      "348\n",
      "360\n",
      "372\n",
      "384\n",
      "396\n",
      "408\n",
      "420\n",
      "432\n",
      "444\n",
      "456\n",
      "468\n",
      "480\n",
      "492\n",
      "504\n",
      "516\n",
      "528\n",
      "540\n",
      "552\n",
      "564\n",
      "576\n",
      "588\n",
      "600\n",
      "612\n",
      "624\n",
      "636\n",
      "648\n",
      "660\n",
      "672\n",
      "684\n",
      "696\n",
      "708\n",
      "720\n",
      "732\n",
      "744\n",
      "756\n",
      "768\n",
      "780\n",
      "792\n",
      "804\n",
      "816\n",
      "828\n",
      "840\n",
      "852\n",
      "864\n",
      "876\n",
      "888\n",
      "900\n",
      "912\n",
      "924\n",
      "936\n",
      "948\n",
      "960\n",
      "972\n",
      "984\n",
      "996\n",
      "1008\n",
      "1020\n",
      "1032\n",
      "1044\n",
      "1056\n",
      "1068\n",
      "1080\n",
      "1092\n",
      "1104\n",
      "1116\n",
      "1128\n",
      "1140\n",
      "1152\n",
      "1164\n",
      "1176\n",
      "1188\n",
      "1200\n",
      "1212\n",
      "1224\n",
      "1236\n",
      "1248\n",
      "1260\n",
      "1272\n",
      "1284\n",
      "1296\n",
      "1308\n",
      "1320\n",
      "1332\n",
      "1344\n",
      "1356\n",
      "1368\n",
      "1380\n",
      "1392\n",
      "1404\n",
      "1416\n",
      "1428\n",
      "1440\n",
      "1452\n",
      "1464\n",
      "1476\n",
      "1488\n",
      "1500\n",
      "1512\n",
      "1524\n",
      "1536\n",
      "1548\n",
      "1560\n",
      "1572\n",
      "1584\n",
      "1596\n",
      "1608\n",
      "1620\n",
      "1632\n",
      "1644\n",
      "1656\n",
      "1668\n",
      "1680\n",
      "1692\n",
      "1704\n",
      "1716\n",
      "1728\n",
      "1740\n",
      "1752\n",
      "1764\n",
      "1776\n",
      "1788\n",
      "1800\n",
      "1812\n",
      "1824\n",
      "1836\n",
      "1848\n",
      "1860\n",
      "1872\n",
      "1884\n",
      "1896\n",
      "1908\n",
      "1920\n",
      "1932\n",
      "1944\n",
      "1956\n",
      "1968\n",
      "1980\n",
      "1992\n",
      "2004\n",
      "2016\n",
      "2028\n",
      "2040\n",
      "2052\n",
      "2064\n",
      "2076\n"
     ]
    },
    {
     "ename": "NameError",
     "evalue": "name 'datas_mensais' is not defined",
     "output_type": "error",
     "traceback": [
      "\u001b[1;31m---------------------------------------------------------------------------\u001b[0m",
      "\u001b[1;31mNameError\u001b[0m                                 Traceback (most recent call last)",
      "\u001b[1;32m<ipython-input-43-ae3ac73bc889>\u001b[0m in \u001b[0;36m<module>\u001b[1;34m()\u001b[0m\n\u001b[0;32m      1\u001b[0m \u001b[1;32mfor\u001b[0m \u001b[0mi\u001b[0m \u001b[1;32min\u001b[0m \u001b[0mrange\u001b[0m \u001b[1;33m(\u001b[0m\u001b[1;36m0\u001b[0m\u001b[1;33m,\u001b[0m \u001b[0mlen\u001b[0m\u001b[1;33m(\u001b[0m\u001b[0mdatas_anual\u001b[0m\u001b[1;33m)\u001b[0m\u001b[1;33m,\u001b[0m\u001b[1;36m12\u001b[0m\u001b[1;33m)\u001b[0m\u001b[1;33m:\u001b[0m\u001b[1;33m\u001b[0m\u001b[0m\n\u001b[0;32m      2\u001b[0m     \u001b[0mprint\u001b[0m \u001b[1;33m(\u001b[0m\u001b[0mi\u001b[0m\u001b[1;33m)\u001b[0m\u001b[1;33m\u001b[0m\u001b[0m\n\u001b[1;32m----> 3\u001b[1;33m \u001b[0mlen\u001b[0m\u001b[1;33m(\u001b[0m\u001b[0mdatas_mensais\u001b[0m\u001b[1;33m)\u001b[0m\u001b[1;33m\u001b[0m\u001b[0m\n\u001b[0m",
      "\u001b[1;31mNameError\u001b[0m: name 'datas_mensais' is not defined"
     ]
    }
   ],
   "source": [
    "for i in range (0, len(datas_anual),12):\n",
    "    print (i)\n",
    "len(datas_mensais)"
   ]
  },
  {
   "cell_type": "code",
   "execution_count": 57,
   "metadata": {
    "collapsed": false
   },
   "outputs": [
    {
     "data": {
      "text/plain": [
       "[1833, 23.930916666666665]"
      ]
     },
     "execution_count": 57,
     "metadata": {},
     "output_type": "execute_result"
    }
   ],
   "source": [
    "temperatura_média_anual[0]"
   ]
  },
  {
   "cell_type": "code",
   "execution_count": 70,
   "metadata": {
    "collapsed": false
   },
   "outputs": [
    {
     "data": {
      "text/plain": [
       "<matplotlib.legend.Legend at 0x7fbea057a240>"
      ]
     },
     "execution_count": 70,
     "metadata": {},
     "output_type": "execute_result"
    },
    {
     "data": {
      "image/png": "[encoded data removed]",
      "text/plain": [
       "<matplotlib.figure.Figure at 0x7fbea044c668>"
      ]
     },
     "metadata": {},
     "output_type": "display_data"
    }
   ],
   "source": [
    "plt.figure() #criamos aqui a figura em branco\n",
    "plt.plot(datas_anual, dados_anual, '-r', label = 'media movel anual') #aqui preenchemo-nas com os dados organizados\n",
    "plt.plot(listagem1,temperatura_média_anual, 'ok', label = 'media anual') #aqui preenchemo-nas com os dados organizados\n",
    "plt.xlabel(\"Ano\") #nomeamos o eixo X\n",
    "plt.xlim(1828, 2017) #definir os limites do eixo x\n",
    "plt.ylabel(\"Temperatura Media\") #nomeamos o eixo Y\n",
    "plt.legend(loc='upper left', fontsize='x-large') #definir a posiçao e tamanho da legenda"
   ]
  },
  {
   "cell_type": "code",
   "execution_count": null,
   "metadata": {
    "collapsed": true
   },
   "outputs": [],
   "source": []
  },
  {
   "cell_type": "markdown",
   "metadata": {},
   "source": [
    "### Resultado esperado\n",
    "\n",
    "O gráfico final deve ser parecido com o abaixo:\n",
    "\n",
    "![images/media-anual-temp-rio.png](images/media-anual-temp-rio.png)"
   ]
  },
  {
   "cell_type": "markdown",
   "metadata": {},
   "source": [
    "## Tarefa Bônus\n",
    "\n",
    "Salve os dados da média anual em um arquivo CSV (comma separated values) chamado `temp-media-anual.csv`. Os valores devem ser separados por `,`. A primeira coluna deve conter os anos e a segunda as temperaturas. Esse arquivo deve estar presente em seu repositório (dê `git add` nele)."
   ]
  },
  {
   "cell_type": "code",
   "execution_count": null,
   "metadata": {
    "collapsed": true
   },
   "outputs": [],
   "source": []
  },
  {
   "cell_type": "code",
   "execution_count": null,
   "metadata": {
    "collapsed": true
   },
   "outputs": [],
   "source": []
  },
  {
   "cell_type": "code",
   "execution_count": null,
   "metadata": {
    "collapsed": true
   },
   "outputs": [],
   "source": []
  },
  {
   "cell_type": "code",
   "execution_count": null,
   "metadata": {
    "collapsed": true
   },
   "outputs": [],
   "source": []
  },
  {
   "cell_type": "code",
   "execution_count": null,
   "metadata": {
    "collapsed": true
   },
   "outputs": [],
   "source": []
  }
 ],
 "metadata": {
  "kernelspec": {
   "display_name": "Python 3",
   "language": "python",
   "name": "python3"
  },
  "language_info": {
   "codemirror_mode": {
    "name": "ipython",
    "version": 3
   },
   "file_extension": ".py",
   "mimetype": "text/x-python",
   "name": "python",
   "nbconvert_exporter": "python",
   "pygments_lexer": "ipython3",
   "version": "3.4.3"
  }
 },
 "nbformat": 4,
 "nbformat_minor": 0
}
